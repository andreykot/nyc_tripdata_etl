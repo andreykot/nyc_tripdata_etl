{
 "cells": [
  {
   "cell_type": "code",
   "execution_count": 1,
   "id": "a6007af6",
   "metadata": {},
   "outputs": [
    {
     "name": "stderr",
     "output_type": "stream",
     "text": [
      "Setting default log level to \"WARN\".\n",
      "To adjust logging level use sc.setLogLevel(newLevel). For SparkR, use setLogLevel(newLevel).\n"
     ]
    },
    {
     "name": "stdout",
     "output_type": "stream",
     "text": [
      "22/08/03 14:14:21 WARN NativeCodeLoader: Unable to load native-hadoop library for your platform... using builtin-java classes where applicable\n"
     ]
    }
   ],
   "source": [
    "from pyspark.sql import SparkSession, DataFrame\n",
    "from pyspark.sql.types import StructType, StructField, IntegerType, TimestampType, FloatType, BooleanType, StringType\n",
    "from pyspark.sql import functions as f\n",
    "from pyspark.sql.functions import when\n",
    "\n",
    "spark = SparkSession.builder.getOrCreate()"
   ]
  },
  {
   "cell_type": "code",
   "execution_count": 2,
   "id": "e2a203a7",
   "metadata": {},
   "outputs": [],
   "source": [
    "d = '/Users/akot/Study/iw/carto/input_data'"
   ]
  },
  {
   "cell_type": "code",
   "execution_count": 37,
   "id": "b20f2d15",
   "metadata": {},
   "outputs": [],
   "source": [
    "import os\n",
    "\n",
    "heads = [os.path.join(d, x) for x in os.listdir(d) if x.endswith('_00.csv')]\n",
    "not_head = [os.path.join(d, x) for x in os.listdir(d) if not x.endswith('_00.csv')]"
   ]
  },
  {
   "cell_type": "code",
   "execution_count": 38,
   "id": "b6c250b6",
   "metadata": {},
   "outputs": [],
   "source": [
    "DEFAULT_SCHEMA = StructType([\n",
    "    StructField(\"VendorID\", IntegerType(), nullable=False),\n",
    "    StructField(\"tpep_pickup_datetime\", TimestampType(), nullable=False),\n",
    "    StructField(\"tpep_dropoff_datetime\", TimestampType(), nullable=False),\n",
    "    StructField(\"passenger_count\", IntegerType(), nullable=False),\n",
    "    StructField(\"trip_distance\", FloatType(), nullable=False),\n",
    "    StructField(\"pickup_longitude\", FloatType(), nullable=False),\n",
    "    StructField(\"pickup_latitude\", FloatType(), nullable=False),\n",
    "    StructField(\"RateCodeID\", IntegerType(), nullable=False),\n",
    "    StructField(\"store_and_fwd_flag\", StringType(), nullable=False),\n",
    "    StructField(\"dropoff_longitude\", FloatType(), nullable=False),\n",
    "    StructField(\"dropoff_latitude\", FloatType(), nullable=False),\n",
    "    StructField(\"payment_type\", IntegerType(), nullable=False),\n",
    "    StructField(\"fare_amount\", FloatType(), nullable=False),\n",
    "    StructField(\"extra\", FloatType(), nullable=False),\n",
    "    StructField(\"mta_tax\", FloatType(), nullable=False),\n",
    "    StructField(\"tip_amount\", FloatType(), nullable=False),\n",
    "    StructField(\"tolls_amount\", FloatType(), nullable=False),\n",
    "    StructField(\"improvement_surcharge\", FloatType(), nullable=False),\n",
    "    StructField(\"total_amount\", FloatType(), nullable=False),\n",
    "])"
   ]
  },
  {
   "cell_type": "code",
   "execution_count": 39,
   "id": "0d619d16",
   "metadata": {},
   "outputs": [],
   "source": [
    "df_heads = (spark\n",
    "          .read\n",
    "          .options(header=True, delimiter='\\t', mode=\"DROPMALFORMED\")\n",
    "          .schema(schema=DEFAULT_SCHEMA)\n",
    "          .csv(heads))\n",
    "\n",
    "df = (spark\n",
    "          .read\n",
    "          .options(header=False, delimiter='\\t', mode=\"DROPMALFORMED\")\n",
    "          .schema(schema=DEFAULT_SCHEMA)\n",
    "          .csv(not_head))"
   ]
  },
  {
   "cell_type": "code",
   "execution_count": 40,
   "id": "a944201b",
   "metadata": {},
   "outputs": [],
   "source": [
    "df = df.union(df_heads)"
   ]
  },
  {
   "cell_type": "code",
   "execution_count": 41,
   "id": "3327fbd3",
   "metadata": {},
   "outputs": [
    {
     "data": {
      "text/plain": [
       "['VendorID',\n",
       " 'tpep_pickup_datetime',\n",
       " 'tpep_dropoff_datetime',\n",
       " 'passenger_count',\n",
       " 'trip_distance',\n",
       " 'pickup_longitude',\n",
       " 'pickup_latitude',\n",
       " 'RateCodeID',\n",
       " 'store_and_fwd_flag',\n",
       " 'dropoff_longitude',\n",
       " 'dropoff_latitude',\n",
       " 'payment_type',\n",
       " 'fare_amount',\n",
       " 'extra',\n",
       " 'mta_tax',\n",
       " 'tip_amount',\n",
       " 'tolls_amount',\n",
       " 'improvement_surcharge',\n",
       " 'total_amount']"
      ]
     },
     "execution_count": 41,
     "metadata": {},
     "output_type": "execute_result"
    }
   ],
   "source": [
    "df.columns"
   ]
  },
  {
   "cell_type": "code",
   "execution_count": 42,
   "id": "9f84d9d0",
   "metadata": {},
   "outputs": [
    {
     "name": "stderr",
     "output_type": "stream",
     "text": [
      "[Stage 41:=====================================================>  (77 + 4) / 81]\r"
     ]
    },
    {
     "name": "stdout",
     "output_type": "stream",
     "text": [
      "+----------+\n",
      "|RateCodeID|\n",
      "+----------+\n",
      "|         1|\n",
      "|         6|\n",
      "|         3|\n",
      "|         5|\n",
      "|         4|\n",
      "|         2|\n",
      "|        99|\n",
      "|      null|\n",
      "+----------+\n",
      "\n"
     ]
    },
    {
     "name": "stderr",
     "output_type": "stream",
     "text": [
      "\r",
      "                                                                                \r"
     ]
    }
   ],
   "source": [
    "df.select(\"RateCodeID\").distinct().show()"
   ]
  },
  {
   "cell_type": "code",
   "execution_count": 31,
   "id": "84065e67",
   "metadata": {},
   "outputs": [
    {
     "name": "stderr",
     "output_type": "stream",
     "text": [
      "[Stage 29:===================================================>    (74 + 7) / 81]\r"
     ]
    },
    {
     "name": "stdout",
     "output_type": "stream",
     "text": [
      "+------------+\n",
      "|payment_type|\n",
      "+------------+\n",
      "|           1|\n",
      "|           3|\n",
      "|           4|\n",
      "|           2|\n",
      "|           5|\n",
      "|        null|\n",
      "+------------+\n",
      "\n"
     ]
    },
    {
     "name": "stderr",
     "output_type": "stream",
     "text": [
      "\r",
      "                                                                                \r"
     ]
    }
   ],
   "source": [
    "df.select(\"payment_type\").distinct().show()"
   ]
  },
  {
   "cell_type": "code",
   "execution_count": 65,
   "id": "6aafb56a",
   "metadata": {},
   "outputs": [
    {
     "name": "stderr",
     "output_type": "stream",
     "text": [
      "                                                                                \r"
     ]
    },
    {
     "data": {
      "text/plain": [
       "[('pickup_longitude', 55, 613320),\n",
       " ('pickup_latitude', 1, 613316),\n",
       " ('dropoff_longitude', 62, 593219),\n",
       " ('dropoff_latitude', 4, 593219)]"
      ]
     },
     "execution_count": 65,
     "metadata": {},
     "output_type": "execute_result"
    }
   ],
   "source": [
    "cols = ['pickup_longitude', 'pickup_latitude', 'dropoff_longitude', 'dropoff_latitude']\n",
    "\n",
    "res = [\n",
    "    (col, df.filter( (f.col(col) < -90) | (f.col(col) > 90)).count(), df.filter( (f.col(col) == 0) ).count())\n",
    "    for col in cols\n",
    "]\n",
    "\n",
    "res  # col_name, number of x < -90 | x > 90, x == 0"
   ]
  },
  {
   "cell_type": "code",
   "execution_count": null,
   "id": "98de6d44",
   "metadata": {},
   "outputs": [],
   "source": []
  }
 ],
 "metadata": {
  "kernelspec": {
   "display_name": "Python 3 (ipykernel)",
   "language": "python",
   "name": "python3"
  },
  "language_info": {
   "codemirror_mode": {
    "name": "ipython",
    "version": 3
   },
   "file_extension": ".py",
   "mimetype": "text/x-python",
   "name": "python",
   "nbconvert_exporter": "python",
   "pygments_lexer": "ipython3",
   "version": "3.9.12"
  }
 },
 "nbformat": 4,
 "nbformat_minor": 5
}
